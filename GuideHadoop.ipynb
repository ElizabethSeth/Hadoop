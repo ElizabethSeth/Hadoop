{
 "cells": [
  {
   "cell_type": "markdown",
   "metadata": {},
   "source": [
    "### Guide to Installing Hadoop on an Azure Virtual Machine"
   ]
  },
  {
   "cell_type": "markdown",
   "metadata": {},
   "source": [
    "# 1. Creating a Virtual Machine (VM) in Azure\n",
    "\n",
    "## 1.1 Logging into Azure Portal\n",
    "\n",
    "Go to Azure Portal and log in to your account.\n",
    "\n",
    "Click \"Create a resource\".\n",
    "\n",
    "In the search bar, type \"Virtual Machine\" and select the corresponding result.\n",
    "\n",
    "Click \"Create\".\n",
    "\n",
    "## 1.2 Configuring the Virtual Machine\n",
    "\n",
    "Resource Group: Create a new one or use an existing one.\n",
    "\n",
    "VM Name: Example, Hadoop-VM.\n",
    "\n",
    "Region: Choose the nearest region.\n",
    "\n",
    "Image: Select Ubuntu Server 20.04 LTS.\n",
    "\n",
    "Size: Choose Standard_B2s (suitable for testing).\n",
    "\n",
    "Authentication:\n",
    "\n",
    "Select SSH and provide an SSH key.\n",
    "\n",
    "Leave the remaining settings as default.\n",
    "\n",
    "## 1.3 Completing the Creation\n",
    "\n",
    "Click \"Review + Create\".\n",
    "\n",
    "Confirm settings and click \"Create\"."
   ]
  },
  {
   "cell_type": "markdown",
   "metadata": {},
   "source": [
    "# 2. Connecting via Remote-SSH in Visual Studio Code\n",
    "\n",
    "## 2.1 Installing the Remote-SSH Extension\n",
    "\n",
    "Open VS Code.\n",
    "\n",
    "Go to Extensions (Ctrl + Shift + X).\n",
    "\n",
    "Search for and install the \"Remote - SSH\" extension.\n",
    "\n",
    "## 2.2 Connecting to the Virtual Machine\n",
    "\n",
    "Open Command Palette (Ctrl + Shift + P).\n",
    "\n",
    "Select Remote-SSH: Connect to Host.\n",
    "\n",
    "Enter the command:"
   ]
  },
  {
   "cell_type": "code",
   "execution_count": null,
   "metadata": {
    "vscode": {
     "languageId": "plaintext"
    }
   },
   "outputs": [],
   "source": [
    "ssh -i \"C:\\path\\to\\Hadoop-Vm_key.pem\" azureuser@<Public-IP>"
   ]
  },
  {
   "cell_type": "markdown",
   "metadata": {},
   "source": [
    "## 2.3 (Optional) Configuring SSH\n",
    "\n",
    "Open the config file at C:\\Users\\<YourUsername>\\.ssh\\config.\n",
    "\n",
    "Add the following:"
   ]
  },
  {
   "cell_type": "code",
   "execution_count": null,
   "metadata": {
    "vscode": {
     "languageId": "plaintext"
    }
   },
   "outputs": [],
   "source": [
    "Host hadoop-vm\n",
    "    HostName <Public-IP>\n",
    "    User azureuser\n",
    "    IdentityFile \"C:\\Users\\<YourUsername>\\Desktop\\Hadoop-Vm_key.pem\""
   ]
  },
  {
   "cell_type": "markdown",
   "metadata": {},
   "source": [
    "# 3. Preparing the Virtual Machine\n",
    "\n",
    "## 3.1 Updating Packages"
   ]
  },
  {
   "cell_type": "code",
   "execution_count": null,
   "metadata": {
    "vscode": {
     "languageId": "plaintext"
    }
   },
   "outputs": [],
   "source": [
    "sudo apt update && sudo apt upgrade -y"
   ]
  },
  {
   "cell_type": "markdown",
   "metadata": {},
   "source": [
    "## 3.2 Installing Additional Tools"
   ]
  },
  {
   "cell_type": "code",
   "execution_count": null,
   "metadata": {
    "vscode": {
     "languageId": "plaintext"
    }
   },
   "outputs": [],
   "source": [
    "sudo apt install -y curl wget git"
   ]
  },
  {
   "cell_type": "markdown",
   "metadata": {},
   "source": [
    "## 3.3 Installing Java (Required for Hadoop)"
   ]
  },
  {
   "cell_type": "code",
   "execution_count": null,
   "metadata": {
    "vscode": {
     "languageId": "plaintext"
    }
   },
   "outputs": [],
   "source": [
    "sudo apt install -y openjdk-11-jdk"
   ]
  },
  {
   "cell_type": "markdown",
   "metadata": {},
   "source": [
    "Apres il fault verifier version du java :\n",
    "\n",
    "java -version"
   ]
  },
  {
   "cell_type": "markdown",
   "metadata": {},
   "source": [
    "# 4. Installing Hadoop\n",
    "\n",
    "## 4.1 Downloading Hadoop"
   ]
  },
  {
   "cell_type": "markdown",
   "metadata": {},
   "source": [
    "Hadoop is a powerful tool used to store and process huge amounts of data across many computers. It’s used in big data projects to handle things that a single computer can’t manage\n",
    "\n",
    "## What is Hadoop?\n",
    "✅A system for storing and processing big data.\n",
    "\n",
    "✅Can handle huge datasets (terabytes, petabytes).\n",
    "\n",
    "✅Uses multiple computers (cluster) to work together.\n",
    "\n",
    "✅Works best when data is too big for one machine."
   ]
  },
  {
   "cell_type": "markdown",
   "metadata": {},
   "source": [
    "## Main Parts of Hadoop\n",
    "\n",
    "### HDFS (Hadoop Distributed File System) → Stores data across multiple machines.\n",
    "\n",
    "✅ Data is broken into blocks and spread across computers.\n",
    "\n",
    "✅ Keeps multiple copies (replication) for safety.\n",
    "\n",
    "✅ MapReduce → Processes big data by splitting it into smaller tasks.\n",
    "\n",
    "### Mapper: Breaks data into parts.\n",
    "\n",
    "### Reducer: Combines results to get the final output.\n",
    "✅ YARN (Yet Another Resource Negotiator) → Manages resources for running tasks.\n",
    "\n",
    "✅ Decides which jobs run where.\n",
    "\n",
    "✅ Hadoop Common → The basic tools and libraries used by Hadoop."
   ]
  },
  {
   "cell_type": "markdown",
   "metadata": {},
   "source": [
    "# Why Use Hadoop?\n",
    "✅ Scalable → Works with hundreds or thousands of machines.\n",
    "\n",
    "✅ Fault-Tolerant → If one machine fails, data is not lost.\n",
    "\n",
    "✅ Cost-Effective → Uses cheap hardware instead of expensive servers.\n",
    "\n",
    "✅ Open-Source → Free to use and modify.\n",
    "\n",
    "✅ Flexible → Can store any type of data (structured, unstructured, logs, images).\n",
    "\n"
   ]
  },
  {
   "cell_type": "markdown",
   "metadata": {},
   "source": [
    "4️⃣ How Hadoop Works? (Example)\n",
    "\n",
    "✅Imagine you have 1,000 books and need to count all the words.\n",
    "\n",
    "✅Without Hadoop → One person reads all books (takes forever).\n",
    "\n",
    "✅With Hadoop → 100 people read 10 books each (much faster).\n",
    "\n",
    "✅HDFS stores the books across 100 people.\n",
    "\n",
    "✅MapReduce splits the work → each person counts words in their books.\n",
    "\n",
    "✅Reducer combines all word counts for the final result."
   ]
  },
  {
   "cell_type": "markdown",
   "metadata": {},
   "source": [
    "In your VM in cmd write this command to install right version"
   ]
  },
  {
   "cell_type": "code",
   "execution_count": null,
   "metadata": {
    "vscode": {
     "languageId": "plaintext"
    }
   },
   "outputs": [],
   "source": [
    "wget https://downloads.apache.org/hadoop/common/hadoop-3.3.6/hadoop-3.3.6.tar.gz"
   ]
  },
  {
   "cell_type": "markdown",
   "metadata": {},
   "source": [
    "## 4.2 Extracting and Moving Hadoop"
   ]
  },
  {
   "cell_type": "code",
   "execution_count": null,
   "metadata": {
    "vscode": {
     "languageId": "plaintext"
    }
   },
   "outputs": [],
   "source": [
    "tar -xzf hadoop-3.3.6.tar.gz\n",
    "\n",
    "sudo mv hadoop-3.3.6 /usr/local/hadoop"
   ]
  },
  {
   "cell_type": "markdown",
   "metadata": {},
   "source": [
    "## 4.3 Setting Environment Variables\n",
    "\n",
    "#### Open ~/.bashrc:"
   ]
  },
  {
   "cell_type": "code",
   "execution_count": null,
   "metadata": {
    "vscode": {
     "languageId": "plaintext"
    }
   },
   "outputs": [],
   "source": [
    "nano ~/.bashrc\n",
    "\n",
    "\n",
    "Add the following lines:\n",
    "\n",
    "export HADOOP_HOME=/usr/local/hadoop\n",
    "export PATH=$PATH:$HADOOP_HOME/bin:$HADOOP_HOME/sbin\n",
    "export JAVA_HOME=/usr/lib/jvm/java-11-openjdk-amd64"
   ]
  },
  {
   "cell_type": "markdown",
   "metadata": {},
   "source": [
    "Apply changes:"
   ]
  },
  {
   "cell_type": "code",
   "execution_count": null,
   "metadata": {
    "vscode": {
     "languageId": "plaintext"
    }
   },
   "outputs": [],
   "source": [
    "source ~/.bashrc"
   ]
  },
  {
   "cell_type": "markdown",
   "metadata": {},
   "source": [
    "You can check Hadoop version"
   ]
  },
  {
   "cell_type": "code",
   "execution_count": null,
   "metadata": {
    "vscode": {
     "languageId": "plaintext"
    }
   },
   "outputs": [],
   "source": [
    "hadoop version"
   ]
  },
  {
   "cell_type": "markdown",
   "metadata": {},
   "source": [
    "# 5. Configuring Hadoop\n",
    "\n",
    "### 5.1 Configuring core-site.xml"
   ]
  },
  {
   "cell_type": "markdown",
   "metadata": {},
   "source": [
    "<configuration>\n",
    "    <property>\n",
    "        <name>fs.defaultFS</name>\n",
    "        <value>hdfs://localhost:9000</value>\n",
    "    </property>\n",
    "    <property>\n",
    "        <name>hadoop.tmp.dir</name>\n",
    "        <value>/usr/local/hadoop/tmp</value>\n",
    "    </property>\n",
    "</configuration>"
   ]
  },
  {
   "cell_type": "markdown",
   "metadata": {},
   "source": [
    "### 5.2 Configuring hdfs-site.xml"
   ]
  },
  {
   "cell_type": "markdown",
   "metadata": {},
   "source": [
    "<configuration>\n",
    "    <property>\n",
    "        <name>dfs.replication</name>\n",
    "        <value>1</value>\n",
    "    </property>\n",
    "</configuration>"
   ]
  },
  {
   "cell_type": "markdown",
   "metadata": {},
   "source": [
    "### 5.3 Configuring yarn-site.xml"
   ]
  },
  {
   "cell_type": "markdown",
   "metadata": {},
   "source": [
    "<configuration>\n",
    "    <property>\n",
    "        <name>yarn.nodemanager.aux-services</name>\n",
    "        <value>mapreduce_shuffle</value>\n",
    "    </property>\n",
    "</configuration>"
   ]
  },
  {
   "cell_type": "markdown",
   "metadata": {},
   "source": [
    "## 6. Creating Hadoop Data Directories"
   ]
  },
  {
   "cell_type": "code",
   "execution_count": null,
   "metadata": {
    "vscode": {
     "languageId": "plaintext"
    }
   },
   "outputs": [],
   "source": [
    "sudo mkdir -p /usr/local/hadoop/tmp /usr/local/hadoop/data/namenode /usr/local/hadoop/data/datanode\n",
    "sudo chown -R $USER:$USER /usr/local/hadoop"
   ]
  },
  {
   "cell_type": "markdown",
   "metadata": {},
   "source": [
    "## 7. Starting Hadoop\n",
    "\n",
    "### 7.1 Formatting HDFS"
   ]
  },
  {
   "cell_type": "code",
   "execution_count": null,
   "metadata": {
    "vscode": {
     "languageId": "plaintext"
    }
   },
   "outputs": [],
   "source": [
    "hdfs namenode -format"
   ]
  },
  {
   "cell_type": "markdown",
   "metadata": {},
   "source": [
    "### 7.2 Starting Hadoop Services"
   ]
  },
  {
   "cell_type": "code",
   "execution_count": null,
   "metadata": {
    "vscode": {
     "languageId": "plaintext"
    }
   },
   "outputs": [],
   "source": [
    "start-dfs.sh\n",
    "start-yarn.sh"
   ]
  },
  {
   "cell_type": "markdown",
   "metadata": {},
   "source": [
    "### 7.3 Checking Services"
   ]
  },
  {
   "cell_type": "markdown",
   "metadata": {},
   "source": [
    "## Expected output:\n",
    "NameNode\n",
    "\n",
    "DataNode\n",
    "\n",
    "ResourceManager\n",
    "\n",
    "NodeManager"
   ]
  },
  {
   "cell_type": "markdown",
   "metadata": {},
   "source": [
    "## 8. Opening Ports in Azure for Hadoop Web UI\n",
    "\n",
    "In Azure Portal, go to the Network settings of the virtual machine.\n",
    "\n",
    "### Add the following rules:\n",
    "\n",
    "9870 (NameNode UI) – Allow TCP from any source.\n",
    "\n",
    "8088 (ResourceManager UI) – Allow TCP from any source.\n",
    "\n",
    "### Check accessibility:\n",
    "\n",
    "http://<Public-IP>:9870 (NameNode UI)\n",
    "\n",
    "http://<Public-IP>:8088 (ResourceManager UI)"
   ]
  },
  {
   "cell_type": "markdown",
   "metadata": {},
   "source": [
    "## Final Verification\n",
    "\n",
    "### Run:\n",
    "\n",
    "  Code : hadoop version\n",
    "\n",
    "Check web interfaces.\n",
    "\n",
    "Ensure all services are running."
   ]
  },
  {
   "cell_type": "markdown",
   "metadata": {},
   "source": [
    "# Guide to Reproducing HDFS Structure and Comparing MapReduce with Spark"
   ]
  },
  {
   "cell_type": "markdown",
   "metadata": {},
   "source": [
    "# 1. Preparing Hadoop and HDFS\n",
    "\n",
    "Before creating the HDFS directory structure, ensure Hadoop is running properly:\n",
    "\n",
    "# 1.1 Start Hadoop Services\n",
    "\n",
    "Run the following command to check if Hadoop services are active:"
   ]
  },
  {
   "cell_type": "code",
   "execution_count": null,
   "metadata": {
    "vscode": {
     "languageId": "plaintext"
    }
   },
   "outputs": [],
   "source": [
    "jps"
   ]
  },
  {
   "cell_type": "markdown",
   "metadata": {},
   "source": [
    "Expected output (or similar):"
   ]
  },
  {
   "cell_type": "code",
   "execution_count": null,
   "metadata": {
    "vscode": {
     "languageId": "plaintext"
    }
   },
   "outputs": [],
   "source": [
    "NameNode\n",
    "DataNode\n",
    "ResourceManager\n",
    "NodeManager\n",
    "SecondaryNameNode"
   ]
  },
  {
   "cell_type": "markdown",
   "metadata": {},
   "source": [
    "If you don't have that output or similar you shoud launch first that command :"
   ]
  },
  {
   "cell_type": "code",
   "execution_count": null,
   "metadata": {
    "vscode": {
     "languageId": "plaintext"
    }
   },
   "outputs": [],
   "source": [
    "start-dfs.sh && start-yarn.sh"
   ]
  },
  {
   "cell_type": "code",
   "execution_count": null,
   "metadata": {
    "vscode": {
     "languageId": "plaintext"
    }
   },
   "outputs": [],
   "source": []
  },
  {
   "cell_type": "markdown",
   "metadata": {},
   "source": [
    "## 2. Reproducing HDFS Data Structure\n",
    "\n",
    "Recreate a production-like data structure in HDFS to simulate real-world data processing scenarios.\n",
    "\n",
    "2.1 Creating Necessary HDFS Directories\n",
    "\n",
    "To organize data effectively, create structured directories in HDFS:"
   ]
  },
  {
   "cell_type": "code",
   "execution_count": null,
   "metadata": {
    "vscode": {
     "languageId": "plaintext"
    }
   },
   "outputs": [],
   "source": [
    "hdfs dfs -mkdir /data\n",
    "hdfs dfs -mkdir /data/raw\n",
    "hdfs dfs -mkdir /data/processed\n",
    "hdfs dfs -mkdir /data/analytics"
   ]
  },
  {
   "cell_type": "markdown",
   "metadata": {},
   "source": [
    "Use this command "
   ]
  },
  {
   "cell_type": "code",
   "execution_count": null,
   "metadata": {
    "vscode": {
     "languageId": "plaintext"
    }
   },
   "outputs": [],
   "source": [
    "hdfs dfs -ls /data"
   ]
  },
  {
   "cell_type": "markdown",
   "metadata": {},
   "source": [
    "![alt text](image.png)"
   ]
  },
  {
   "cell_type": "markdown",
   "metadata": {},
   "source": [
    "### 3. Comparing MapReduce with Spark\n",
    "\n",
    "Reproduce a production-like data processing scenario and compare the performance and simplicity of MapReduce vs. Spark.\n",
    "\n",
    "### 3.1 Counting Word/Sales Occurrences Using MapReduce\n",
    "\n",
    "Create a simple MapReduce job to count word occurrences in a file stored in HDFS.\n",
    "\n",
    "Mapper (mapper_csv.py)"
   ]
  },
  {
   "cell_type": "code",
   "execution_count": null,
   "metadata": {
    "vscode": {
     "languageId": "plaintext"
    }
   },
   "outputs": [],
   "source": [
    "#!/usr/bin/env python3\n",
    "import sys\n",
    "for line in sys.stdin:\n",
    "    print(1)"
   ]
  },
  {
   "cell_type": "markdown",
   "metadata": {},
   "source": [
    "Reducer (reducer_csv.py)"
   ]
  },
  {
   "cell_type": "code",
   "execution_count": null,
   "metadata": {
    "vscode": {
     "languageId": "plaintext"
    }
   },
   "outputs": [],
   "source": [
    "import sys\n",
    "total_lines = 0\n",
    "for line in sys.stdin:\n",
    "    total_lines += int(line)\n",
    "print(total_lines)"
   ]
  },
  {
   "cell_type": "markdown",
   "metadata": {},
   "source": [
    "Run the MapReduce job using Hadoop Streaming:"
   ]
  },
  {
   "cell_type": "code",
   "execution_count": null,
   "metadata": {
    "vscode": {
     "languageId": "plaintext"
    }
   },
   "outputs": [],
   "source": [
    "hadoop jar /usr/local/hadoop/share/hadoop/tools/lib/hadoop-streaming-*.jar \\\n",
    "    -input /data/raw/diamonds.csv \\\n",
    "    -output /data/processed/wordcount \\\n",
    "    -mapper mapper_csv.py \\\n",
    "    -reducer reducer_csv.py"
   ]
  },
  {
   "cell_type": "markdown",
   "metadata": {},
   "source": [
    "Verify the output:"
   ]
  },
  {
   "cell_type": "code",
   "execution_count": null,
   "metadata": {
    "vscode": {
     "languageId": "plaintext"
    }
   },
   "outputs": [],
   "source": [
    "hdfs dfs -cat /data/processed/wordcount/part-00000"
   ]
  },
  {
   "cell_type": "markdown",
   "metadata": {},
   "source": [
    "This command sends an HTTP HEAD request to http://localhost:8088, which is the Hadoop YARN ResourceManager Web UI.\n",
    "\n",
    "The -I option makes curl only fetch the headers of the response, without downloading the full content.\n",
    "\n",
    "It helps check whether the ResourceManager service is running and responding on port 8088\n",
    "\n",
    "\n",
    "This sends an HTTP HEAD request to http://localhost:9870, which is the Hadoop HDFS NameNode Web UI.\n",
    "\n",
    "The -I option ensures only the HTTP headers are retrieved, allowing us to confirm if the NameNode web interface is accessible on port 9870.\n"
   ]
  },
  {
   "cell_type": "code",
   "execution_count": null,
   "metadata": {
    "vscode": {
     "languageId": "plaintext"
    }
   },
   "outputs": [],
   "source": [
    " curl -I http://localhost:8088\n",
    " curl -I http://localhost:9870"
   ]
  },
  {
   "cell_type": "markdown",
   "metadata": {},
   "source": [
    "![alt text](image-1.png)"
   ]
  },
  {
   "attachments": {
    "image.png": {
     "image/png": "[encoded data removed]"
    }
   },
   "cell_type": "markdown",
   "metadata": {},
   "source": [
    "![image.png](attachment:image.png)"
   ]
  },
  {
   "cell_type": "markdown",
   "metadata": {},
   "source": [
    "### Before uploading the dataset, the CSV file should be transferred from a local computer to the virtual machine. Run the following command on your local machine:"
   ]
  },
  {
   "cell_type": "code",
   "execution_count": null,
   "metadata": {
    "vscode": {
     "languageId": "plaintext"
    }
   },
   "outputs": [],
   "source": [
    "scp -i \"Hadoop-Vm_key.pem\" \"C:\\Users\\YourUser\\Desktop\\diamonds.csv\" azureuser@<VM_PUBLIC_IP>:/home/azureuser/"
   ]
  },
  {
   "cell_type": "markdown",
   "metadata": {},
   "source": [
    "This command securely copies the diamonds.csv file from your local computer to the home directory of the Azure virtual machine.\n",
    "\n",
    "Once the file is available in the virtual machine, it can be uploaded to HDFS:"
   ]
  },
  {
   "cell_type": "code",
   "execution_count": null,
   "metadata": {
    "vscode": {
     "languageId": "plaintext"
    }
   },
   "outputs": [],
   "source": [
    "hdfs dfs -put /home/azureuser/diamonds.csv /data/raw/"
   ]
  },
  {
   "cell_type": "code",
   "execution_count": null,
   "metadata": {
    "vscode": {
     "languageId": "plaintext"
    }
   },
   "outputs": [],
   "source": [
    "hdfs dfs -ls /data/raw/ #Check if the file was successfully uploaded"
   ]
  },
  {
   "cell_type": "markdown",
   "metadata": {},
   "source": [
    "1.1 Installing Apache Spark on the Virtual Machine\n",
    "\n",
    "Apache Spark needs to be installed and configured before running Spark-based tasks. Follow these steps:\n",
    "\n",
    "Step 1: Download and Extract Apache Spark\n",
    "\n",
    "Extract the archive:\n",
    "\n",
    "Move Spark to /usr/local/spark (ensure no conflicts exist):"
   ]
  },
  {
   "cell_type": "code",
   "execution_count": null,
   "metadata": {
    "vscode": {
     "languageId": "plaintext"
    }
   },
   "outputs": [],
   "source": [
    "wget https://downloads.apache.org/spark/spark-3.5.3/spark-3.5.3-bin-hadoop3.tgz\n",
    "tar -xvzf spark-3.5.3-bin-hadoop3.tgz\n",
    "sudo mv spark-3.5.3-bin-hadoop3 /usr/local/spark"
   ]
  },
  {
   "cell_type": "markdown",
   "metadata": {},
   "source": [
    "Step 2: Set Up Environment Variables\n",
    "\n",
    "Add the following lines to the ~/.bashrc file:"
   ]
  },
  {
   "cell_type": "code",
   "execution_count": null,
   "metadata": {
    "vscode": {
     "languageId": "plaintext"
    }
   },
   "outputs": [],
   "source": [
    "export HADOOP_HOME=/usr/local/hadoop\n",
    "export PATH=$PATH:$HADOOP_HOME/bin:$HADOOP_HOME/sbin\n",
    "\n",
    "export JAVA_HOME=/usr/lib/jvm/java-11-openjdk-amd64\n",
    "export PATH=$PATH:$JAVA_HOME/bin\n",
    "\n",
    "export SPARK_HOME=/usr/local/spark\n",
    "export PATH=$PATH:$SPARK_HOME/bin:$SPARK_HOME/sbin"
   ]
  },
  {
   "cell_type": "markdown",
   "metadata": {},
   "source": [
    "Apply the changes:\n",
    "\n",
    "source ~/.bashrc\n",
    "\n",
    "Step 3: Verify the Installation\n",
    "\n",
    "Check the installed version of Spark:\n",
    "\n",
    "pyspark --version\n",
    "\n",
    "Expected output:"
   ]
  },
  {
   "cell_type": "code",
   "execution_count": null,
   "metadata": {
    "vscode": {
     "languageId": "plaintext"
    }
   },
   "outputs": [],
   "source": [
    "Spark 3.5.3\n",
    "Using Scala version 2.12.18, OpenJDK 64-Bit Server VM, 11.0.25"
   ]
  },
  {
   "cell_type": "markdown",
   "metadata": {},
   "source": []
  },
  {
   "cell_type": "markdown",
   "metadata": {},
   "source": []
  },
  {
   "cell_type": "markdown",
   "metadata": {},
   "source": [
    "## 3. Comparing MapReduce with Spark\n",
    "\n",
    "Reproduce a production-like data processing scenario and compare the performance and simplicity of MapReduce vs. Spark.\n",
    "\n",
    "### 3.1 Counting Word/Sales Occurrences Using MapReduce\n",
    "\n",
    "Create a simple MapReduce job to count word occurrences in a file stored in HDFS.\n",
    "\n",
    "Mapper (mapper_csv.py)"
   ]
  },
  {
   "cell_type": "code",
   "execution_count": null,
   "metadata": {
    "vscode": {
     "languageId": "plaintext"
    }
   },
   "outputs": [],
   "source": [
    "#!/usr/bin/env python3\n",
    "import sys\n",
    "for line in sys.stdin:\n",
    "    print(1)"
   ]
  },
  {
   "cell_type": "markdown",
   "metadata": {},
   "source": [
    "Reducer (reducer_csv.py)"
   ]
  },
  {
   "cell_type": "code",
   "execution_count": null,
   "metadata": {
    "vscode": {
     "languageId": "plaintext"
    }
   },
   "outputs": [],
   "source": [
    "import sys\n",
    "total_lines = 0\n",
    "for line in sys.stdin:\n",
    "    total_lines += int(line)\n",
    "print(total_lines)"
   ]
  },
  {
   "cell_type": "markdown",
   "metadata": {},
   "source": [
    "Run the MapReduce job using Hadoop Streaming:"
   ]
  },
  {
   "cell_type": "code",
   "execution_count": null,
   "metadata": {
    "vscode": {
     "languageId": "plaintext"
    }
   },
   "outputs": [],
   "source": [
    "hadoop jar /usr/local/hadoop/share/hadoop/tools/lib/hadoop-streaming-*.jar \\\n",
    "    -input /data/raw/diamonds.csv \\\n",
    "    -output /data/processed/diamonds \\\n",
    "    -mapper mapper_csv.py \\\n",
    "    -reducer reducer_csv.py"
   ]
  },
  {
   "cell_type": "markdown",
   "metadata": {},
   "source": [
    "Verify the output:"
   ]
  },
  {
   "cell_type": "code",
   "execution_count": null,
   "metadata": {
    "vscode": {
     "languageId": "plaintext"
    }
   },
   "outputs": [],
   "source": [
    "hdfs dfs -cat /data/processed/diamonds/part-00000"
   ]
  },
  {
   "attachments": {
    "image.png": {
     "image/png": "[encoded data removed]"
    }
   },
   "cell_type": "markdown",
   "metadata": {},
   "source": [
    "![image.png](attachment:image.png)"
   ]
  },
  {
   "cell_type": "markdown",
   "metadata": {},
   "source": [
    "## Comparative Performance Analysis"
   ]
  },
  {
   "attachments": {
    "image.png": {
     "image/png": "[encoded data removed]"
    }
   },
   "cell_type": "markdown",
   "metadata": {},
   "source": [
    "![image.png](attachment:image.png)"
   ]
  },
  {
   "cell_type": "markdown",
   "metadata": {},
   "source": [
    "## When is MapReduce More Efficient?\n",
    "Processing extremely large files that do not fit in memory.\n",
    "\n",
    "Tasks that require strict batch processing without real-time needs."
   ]
  },
  {
   "cell_type": "markdown",
   "metadata": {},
   "source": [
    "## Limitations of MapReduce Compared to Spark\n",
    "Higher I/O overhead.\n",
    "\n",
    "More complex code structure.\n",
    "\n",
    "Slower processing for iterative or interactive tasks."
   ]
  },
  {
   "cell_type": "markdown",
   "metadata": {},
   "source": [
    "## Conclusion\n",
    "Spark proves to be the more efficient and user-friendly tool for processing large datasets in a distributed environment.However, MapReduce may still be useful for large-scale batch processing when computational resources are limited"
   ]
  },
  {
   "cell_type": "markdown",
   "metadata": {},
   "source": []
  }
 ],
 "metadata": {
  "language_info": {
   "name": "python"
  }
 },
 "nbformat": 4,
 "nbformat_minor": 2
}
